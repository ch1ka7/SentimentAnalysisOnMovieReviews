{
  "nbformat": 4,
  "nbformat_minor": 0,
  "metadata": {
    "colab": {
      "name": "big_data_sentiment_analysis_project.ipynb",
      "provenance": [],
      "collapsed_sections": [],
      "authorship_tag": "ABX9TyPjA1ZcTG7ga7DXQVQjHW9J"
    },
    "kernelspec": {
      "name": "python3",
      "display_name": "Python 3"
    },
    "language_info": {
      "name": "python"
    }
  },
  "cells": [
    {
      "cell_type": "markdown",
      "metadata": {
        "id": "xv4a3NpLFnDu"
      },
      "source": [
        "**Sentiment Analysis on IMDB Movie Reviews**\n"
      ]
    },
    {
      "cell_type": "code",
      "metadata": {
        "colab": {
          "base_uri": "https://localhost:8080/"
        },
        "id": "Ld_xPc9eICZD",
        "outputId": "f09716b6-ee1b-4b6c-f893-74d5131d8a64"
      },
      "source": [
        "# Mount Google Drive Directory\n",
        "from google.colab import drive\n",
        "drive.mount(\"/content/drive\")"
      ],
      "execution_count": null,
      "outputs": [
        {
          "output_type": "stream",
          "text": [
            "Mounted at /content/drive\n"
          ],
          "name": "stdout"
        }
      ]
    },
    {
      "cell_type": "code",
      "metadata": {
        "colab": {
          "base_uri": "https://localhost:8080/"
        },
        "id": "LZ5gCX6W4WkK",
        "outputId": "8fad1d93-8a84-4789-8a21-8666d2dac872"
      },
      "source": [
        "# This is only to setup PySpark and Spark NLP on Colab\n",
        "!wget http://setup.johnsnowlabs.com/colab.sh -O - | bash"
      ],
      "execution_count": null,
      "outputs": [
        {
          "output_type": "stream",
          "text": [
            "--2021-04-22 21:50:01--  http://setup.johnsnowlabs.com/colab.sh\n",
            "Resolving setup.johnsnowlabs.com (setup.johnsnowlabs.com)... 51.158.130.26\n",
            "Connecting to setup.johnsnowlabs.com (setup.johnsnowlabs.com)|51.158.130.26|:80... connected.\n",
            "HTTP request sent, awaiting response... 302 Moved Temporarily\n",
            "Location: https://raw.githubusercontent.com/JohnSnowLabs/spark-nlp/master/scripts/colab_setup.sh [following]\n",
            "--2021-04-22 21:50:01--  https://raw.githubusercontent.com/JohnSnowLabs/spark-nlp/master/scripts/colab_setup.sh\n",
            "Resolving raw.githubusercontent.com (raw.githubusercontent.com)... 185.199.108.133, 185.199.109.133, 185.199.110.133, ...\n",
            "Connecting to raw.githubusercontent.com (raw.githubusercontent.com)|185.199.108.133|:443... connected.\n",
            "HTTP request sent, awaiting response... 200 OK\n",
            "Length: 1594 (1.6K) [text/plain]\n",
            "Saving to: ‘STDOUT’\n",
            "\n",
            "-                   100%[===================>]   1.56K  --.-KB/s    in 0s      \n",
            "\n",
            "2021-04-22 21:50:02 (28.6 MB/s) - written to stdout [1594/1594]\n",
            "\n",
            "setup Colab for PySpark 3.0.2 and Spark NLP 3.0.2\n",
            "\u001b[K     |████████████████████████████████| 204.8MB 73kB/s \n",
            "\u001b[K     |████████████████████████████████| 153kB 42.4MB/s \n",
            "\u001b[K     |████████████████████████████████| 204kB 22.4MB/s \n",
            "\u001b[?25h  Building wheel for pyspark (setup.py) ... \u001b[?25l\u001b[?25hdone\n"
          ],
          "name": "stdout"
        }
      ]
    },
    {
      "cell_type": "code",
      "metadata": {
        "colab": {
          "base_uri": "https://localhost:8080/"
        },
        "id": "ZmkO2kvb5qQH",
        "outputId": "65098368-9bb6-44b1-8fe3-87fc1c8f18c0"
      },
      "source": [
        "# Import SparkNLP and Start SparkNLP Session\n",
        "import sparknlp\n",
        "spark = sparknlp.start()\n",
        "\n",
        "print(\"Spark NLP version: {}\".format(sparknlp.version()))\n",
        "print(\"Apache Spark version: {}\".format(spark.version))\n",
        "\n",
        "from sparknlp.base import *\n",
        "from sparknlp.annotator import *           \n",
        "\n",
        "from pyspark.sql.functions import *\n",
        "\n",
        "from sklearn.metrics import classification_report, accuracy_score\n",
        "\n",
        "import pandas as pd"
      ],
      "execution_count": null,
      "outputs": [
        {
          "output_type": "stream",
          "text": [
            "Spark NLP version: 3.0.2\n",
            "Apache Spark version: 3.0.2\n"
          ],
          "name": "stdout"
        }
      ]
    },
    {
      "cell_type": "markdown",
      "metadata": {
        "id": "QrYIAHOf8VZ_"
      },
      "source": [
        "**IMDB Dataset Info**\n",
        "\n",
        "https://www.kaggle.com/lakshmi25npathi/imdb-dataset-of-50k-movie-reviews?select=IMDB+Dataset.csv\n",
        "\n",
        "IMDB dataset having 50K movie reviews for natural language processing or Text analytics.\n",
        "This is a dataset for binary sentiment classification containing substantially more data than previous benchmark datasets. We provide a set of 25,000 highly polar movie reviews for training and 25,000 for testing. So, predict the number of positive and negative reviews using either classification or deep learning algorithms.\n",
        "For more dataset information, please go through the following link,\n",
        "http://ai.stanford.edu/~amaas/data/sentiment/"
      ]
    },
    {
      "cell_type": "code",
      "metadata": {
        "colab": {
          "base_uri": "https://localhost:8080/",
          "height": 419
        },
        "id": "sfv_b9uP7daq",
        "outputId": "66c2a6d6-237b-4ef5-9a19-915fde0835d3"
      },
      "source": [
        "# Upload the dataset into a Pandas DataFrame\n",
        "csv_file = \"/content/drive/MyDrive/Colab Notebooks/imdb_dataset.csv\"\n",
        "reviews = pd.read_csv(csv_file, usecols=[0, 1], names=[\"text\", \"actual_sentiment\"], skiprows=1)\n",
        "reviews"
      ],
      "execution_count": null,
      "outputs": [
        {
          "output_type": "execute_result",
          "data": {
            "text/html": [
              "<div>\n",
              "<style scoped>\n",
              "    .dataframe tbody tr th:only-of-type {\n",
              "        vertical-align: middle;\n",
              "    }\n",
              "\n",
              "    .dataframe tbody tr th {\n",
              "        vertical-align: top;\n",
              "    }\n",
              "\n",
              "    .dataframe thead th {\n",
              "        text-align: right;\n",
              "    }\n",
              "</style>\n",
              "<table border=\"1\" class=\"dataframe\">\n",
              "  <thead>\n",
              "    <tr style=\"text-align: right;\">\n",
              "      <th></th>\n",
              "      <th>text</th>\n",
              "      <th>actual_sentiment</th>\n",
              "    </tr>\n",
              "  </thead>\n",
              "  <tbody>\n",
              "    <tr>\n",
              "      <th>0</th>\n",
              "      <td>One of the other reviewers has mentioned that ...</td>\n",
              "      <td>positive</td>\n",
              "    </tr>\n",
              "    <tr>\n",
              "      <th>1</th>\n",
              "      <td>A wonderful little production. &lt;br /&gt;&lt;br /&gt;The...</td>\n",
              "      <td>positive</td>\n",
              "    </tr>\n",
              "    <tr>\n",
              "      <th>2</th>\n",
              "      <td>I thought this was a wonderful way to spend ti...</td>\n",
              "      <td>positive</td>\n",
              "    </tr>\n",
              "    <tr>\n",
              "      <th>3</th>\n",
              "      <td>Basically there's a family where a little boy ...</td>\n",
              "      <td>negative</td>\n",
              "    </tr>\n",
              "    <tr>\n",
              "      <th>4</th>\n",
              "      <td>Petter Mattei's \"Love in the Time of Money\" is...</td>\n",
              "      <td>positive</td>\n",
              "    </tr>\n",
              "    <tr>\n",
              "      <th>...</th>\n",
              "      <td>...</td>\n",
              "      <td>...</td>\n",
              "    </tr>\n",
              "    <tr>\n",
              "      <th>49995</th>\n",
              "      <td>I thought this movie did a down right good job...</td>\n",
              "      <td>positive</td>\n",
              "    </tr>\n",
              "    <tr>\n",
              "      <th>49996</th>\n",
              "      <td>Bad plot, bad dialogue, bad acting, idiotic di...</td>\n",
              "      <td>negative</td>\n",
              "    </tr>\n",
              "    <tr>\n",
              "      <th>49997</th>\n",
              "      <td>I am a Catholic taught in parochial elementary...</td>\n",
              "      <td>negative</td>\n",
              "    </tr>\n",
              "    <tr>\n",
              "      <th>49998</th>\n",
              "      <td>I'm going to have to disagree with the previou...</td>\n",
              "      <td>negative</td>\n",
              "    </tr>\n",
              "    <tr>\n",
              "      <th>49999</th>\n",
              "      <td>No one expects the Star Trek movies to be high...</td>\n",
              "      <td>negative</td>\n",
              "    </tr>\n",
              "  </tbody>\n",
              "</table>\n",
              "<p>50000 rows × 2 columns</p>\n",
              "</div>"
            ],
            "text/plain": [
              "                                                    text actual_sentiment\n",
              "0      One of the other reviewers has mentioned that ...         positive\n",
              "1      A wonderful little production. <br /><br />The...         positive\n",
              "2      I thought this was a wonderful way to spend ti...         positive\n",
              "3      Basically there's a family where a little boy ...         negative\n",
              "4      Petter Mattei's \"Love in the Time of Money\" is...         positive\n",
              "...                                                  ...              ...\n",
              "49995  I thought this movie did a down right good job...         positive\n",
              "49996  Bad plot, bad dialogue, bad acting, idiotic di...         negative\n",
              "49997  I am a Catholic taught in parochial elementary...         negative\n",
              "49998  I'm going to have to disagree with the previou...         negative\n",
              "49999  No one expects the Star Trek movies to be high...         negative\n",
              "\n",
              "[50000 rows x 2 columns]"
            ]
          },
          "metadata": {
            "tags": []
          },
          "execution_count": 4
        }
      ]
    },
    {
      "cell_type": "code",
      "metadata": {
        "colab": {
          "base_uri": "https://localhost:8080/"
        },
        "id": "xTUF7H5c7vft",
        "outputId": "b4222653-55d7-44b8-b48c-6ff095a49802"
      },
      "source": [
        "\"\"\" Create a Spark DataFrame from the Pandas DataFrame, keep index column, replace positive and negative sentiment tags from the dataset by pos and neg respectively, \n",
        "because sentiments analysis model outputs result as pos or neg hence it will be handy to check accuracy of the model later on. \"\"\"\n",
        "\n",
        "reviews_df = spark.createDataFrame(reviews.reset_index(drop=False))\\\n",
        ".withColumn(\"actual_sentiment\", when(col(\"actual_sentiment\") == \"positive\", \"pos\").otherwise(\"neg\"))\n",
        "reviews_df.show(truncate=100)"
      ],
      "execution_count": null,
      "outputs": [
        {
          "output_type": "stream",
          "text": [
            "+-----+----------------------------------------------------------------------------------------------------+----------------+\n",
            "|index|                                                                                                text|actual_sentiment|\n",
            "+-----+----------------------------------------------------------------------------------------------------+----------------+\n",
            "|    0|One of the other reviewers has mentioned that after watching just 1 Oz episode you'll be hooked. ...|             pos|\n",
            "|    1|A wonderful little production. <br /><br />The filming technique is very unassuming- very old-tim...|             pos|\n",
            "|    2|I thought this was a wonderful way to spend time on a too hot summer weekend, sitting in the air ...|             pos|\n",
            "|    3|Basically there's a family where a little boy (Jake) thinks there's a zombie in his closet & his ...|             neg|\n",
            "|    4|Petter Mattei's \"Love in the Time of Money\" is a visually stunning film to watch. Mr. Mattei offe...|             pos|\n",
            "|    5|Probably my all-time favorite movie, a story of selflessness, sacrifice and dedication to a noble...|             pos|\n",
            "|    6|I sure would like to see a resurrection of a up dated Seahunt series with the tech they have toda...|             pos|\n",
            "|    7|This show was an amazing, fresh & innovative idea in the 70's when it first aired. The first 7 or...|             neg|\n",
            "|    8|Encouraged by the positive comments about this film on here I was looking forward to watching thi...|             neg|\n",
            "|    9|If you like original gut wrenching laughter you will like this movie. If you are young or old the...|             pos|\n",
            "|   10|Phil the Alien is one of those quirky films where the humour is based around the oddness of every...|             neg|\n",
            "|   11|I saw this movie when I was about 12 when it came out. I recall the scariest scene was the big bi...|             neg|\n",
            "|   12|So im not a big fan of Boll's work but then again not many are. I enjoyed his movie Postal (maybe...|             neg|\n",
            "|   13|The cast played Shakespeare.<br /><br />Shakespeare lost.<br /><br />I appreciate that this is tr...|             neg|\n",
            "|   14|This a fantastic movie of three prisoners who become famous. One of the actors is george clooney ...|             pos|\n",
            "|   15|Kind of drawn in by the erotic scenes, only to realize this was one of the most amateurish and un...|             neg|\n",
            "|   16|Some films just simply should not be remade. This is one of them. In and of itself it is not a ba...|             pos|\n",
            "|   17|This movie made it into one of my top 10 most awful movies. Horrible. <br /><br />There wasn't a ...|             neg|\n",
            "|   18|I remember this film,it was the first film i had watched at the cinema the picture was dark in pl...|             pos|\n",
            "|   19|An awful film! It must have been up against some real stinkers to be nominated for the Golden Glo...|             neg|\n",
            "+-----+----------------------------------------------------------------------------------------------------+----------------+\n",
            "only showing top 20 rows\n",
            "\n"
          ],
          "name": "stdout"
        }
      ]
    },
    {
      "cell_type": "markdown",
      "metadata": {
        "id": "X-QZsUFuGZl8"
      },
      "source": [
        "**DocumentAssembler**\n",
        "\n",
        "---\n",
        "\n",
        "In order to get through the NLP process, we need to get raw data annotated. There is a special transformer that does this for us: it creates the first annotation of type Document which may be used by annotators down the road. It can read either a String column or an Array[String]"
      ]
    },
    {
      "cell_type": "code",
      "metadata": {
        "id": "iJ6-nHllrWWE"
      },
      "source": [
        "# Document Assembler\n",
        "document_assembler = DocumentAssembler().setInputCol(\"text\").setOutputCol(\"document\").setCleanupMode(\"shrink_full\")"
      ],
      "execution_count": null,
      "outputs": []
    },
    {
      "cell_type": "markdown",
      "metadata": {
        "id": "-z2xzl05HLnb"
      },
      "source": [
        "**DocumentNormalizer (Text cleaning)**\n",
        "\n",
        "---\n",
        "Annotator which normalizes raw text from tagged text, e.g. scraped web pages or xml documents, from document type columns into Sentence.\n"
      ]
    },
    {
      "cell_type": "code",
      "metadata": {
        "id": "7CqVGyNyAVb3"
      },
      "source": [
        "# Document Normalizer\n",
        "clean_up_patterns = [\"<[^>]*>\"]\n",
        "\n",
        "document_normalizer = DocumentNormalizer() \\\n",
        "    .setInputCols(\"document\") \\\n",
        "    .setOutputCol(\"normalized_document\") \\\n",
        "    .setAction(\"clean\") \\\n",
        "    .setPatterns(clean_up_patterns) \\\n",
        "    .setReplacement(\" \") \\\n",
        "    .setPolicy(\"pretty_all\") \\\n",
        "    .setLowercase(False)"
      ],
      "execution_count": null,
      "outputs": []
    },
    {
      "cell_type": "markdown",
      "metadata": {
        "id": "RApCXakeHcdy"
      },
      "source": [
        "**UniversalSentenceEncoder**\n",
        "\n",
        "---\n",
        "\n",
        "The Universal Sentence Encoder encodes text into high dimensional vectors that can be used for text classification, semantic similarity, clustering and other natural language tasks."
      ]
    },
    {
      "cell_type": "code",
      "metadata": {
        "colab": {
          "base_uri": "https://localhost:8080/"
        },
        "id": "ErPMPwP_AtYG",
        "outputId": "120e13b7-6daa-4a6d-d863-1fed713255cc"
      },
      "source": [
        "# Universal Sentence Encoder\n",
        "use = UniversalSentenceEncoder.pretrained(name=\"tfhub_use\", lang=\"en\").setInputCols([\"normalized_document\"]).setOutputCol(\"sentence_embeddings\")"
      ],
      "execution_count": null,
      "outputs": [
        {
          "output_type": "stream",
          "text": [
            "tfhub_use download started this may take some time.\n",
            "Approximate size to download 923.7 MB\n",
            "[OK!]\n"
          ],
          "name": "stdout"
        }
      ]
    },
    {
      "cell_type": "markdown",
      "metadata": {
        "id": "X_SAMx30HsUx"
      },
      "source": [
        "**SentimentDL (Multi-class Sentiment Analysis annotator)**\n",
        "\n",
        "---\n",
        "\n",
        "SentimentDL is an annotator for multi-class sentiment analysis. This annotator comes with 2 available pre-trained models trained on IMDB and Twitter datasets"
      ]
    },
    {
      "cell_type": "code",
      "metadata": {
        "colab": {
          "base_uri": "https://localhost:8080/"
        },
        "id": "ZYN4YX8fA8UG",
        "outputId": "14b51bb4-6d8d-4202-8ed4-ff93298d7272"
      },
      "source": [
        "# SentimentDL Model\n",
        "sentimentdl = SentimentDLModel.pretrained(name=\"sentimentdl_use_imdb\", lang=\"en\").setInputCols([\"sentence_embeddings\"]).setOutputCol(\"sentiment\")"
      ],
      "execution_count": null,
      "outputs": [
        {
          "output_type": "stream",
          "text": [
            "sentimentdl_use_imdb download started this may take some time.\n",
            "Approximate size to download 12 MB\n",
            "[OK!]\n"
          ],
          "name": "stdout"
        }
      ]
    },
    {
      "cell_type": "markdown",
      "metadata": {
        "id": "RftyP4_QIoS2"
      },
      "source": [
        "**Pipeline**\n",
        "\n",
        "---\n",
        "\n",
        "A Pipeline is specified as a sequence of stages, and each stage is either a Transformer or an Estimator. These stages are run in order, and the input DataFrame is transformed as it passes through each stage. For Transformer stages, the transform() method is called on the DataFrame. For Estimator stages, the fit() method is called to produce a Transformer (which becomes part of the PipelineModel, or fitted Pipeline), and that Transformer’s transform() method is called on the DataFrame."
      ]
    },
    {
      "cell_type": "code",
      "metadata": {
        "id": "gFERGd5wBTcK"
      },
      "source": [
        "# Pipeline\n",
        "nlp_pipeline = Pipeline(\n",
        "      stages = [\n",
        "          document_assembler,\n",
        "          document_normalizer,\n",
        "          use,\n",
        "          sentimentdl\n",
        "      ])"
      ],
      "execution_count": null,
      "outputs": []
    },
    {
      "cell_type": "code",
      "metadata": {
        "id": "uuMpKJPPBUvD"
      },
      "source": [
        "# Fit the model on the dataset and get the results\n",
        "empty_df = spark.createDataFrame([[\"\"]]).toDF(\"text\")\n",
        "\n",
        "pipeline_model = nlp_pipeline.fit(empty_df)\n",
        "\n",
        "results = pipeline_model.transform(reviews_df)"
      ],
      "execution_count": null,
      "outputs": []
    },
    {
      "cell_type": "markdown",
      "metadata": {
        "id": "jvG-ln94CwxP"
      },
      "source": [
        "**Index | Review | Sentiment | Score**"
      ]
    },
    {
      "cell_type": "code",
      "metadata": {
        "colab": {
          "base_uri": "https://localhost:8080/"
        },
        "id": "5ExvgkK-CqnN",
        "outputId": "44279ecc-a2b9-416d-9dba-847e21e9a502"
      },
      "source": [
        "results.select(\"index\", explode(arrays_zip(\"normalized_document.result\", \"sentiment.result\", \"sentiment.metadata\")).alias(\"cols\")) \\\n",
        ".select(\"index\",\n",
        "        expr(\"cols['0']\").alias(\"normalized_document\"),\n",
        "        expr(\"cols['1']\").alias(\"sentiment\"), \n",
        "        when(expr(\"cols['1']\") == \"pos\", format_number(expr(\"cols['2'].pos\") * 100, 1))\\\n",
        "        .otherwise(format_number(expr(\"cols['2'].neg\") * 100, 1)).alias(\"score\")\n",
        "        ).show(truncate=100)"
      ],
      "execution_count": null,
      "outputs": [
        {
          "output_type": "stream",
          "text": [
            "+-----+----------------------------------------------------------------------------------------------------+---------+-----+\n",
            "|index|                                                                                 normalized_document|sentiment|score|\n",
            "+-----+----------------------------------------------------------------------------------------------------+---------+-----+\n",
            "|    0|One of the other reviewers has mentioned that after watching just 1 Oz episode you'll be hooked. ...|      pos|100.0|\n",
            "|    1|A wonderful little production. The filming technique is very unassuming- very old-time-BBC fashio...|      pos|100.0|\n",
            "|    2|I thought this was a wonderful way to spend time on a too hot summer weekend, sitting in the air ...|      pos|100.0|\n",
            "|    3|Basically there's a family where a little boy (Jake) thinks there's a zombie in his closet & his ...|      neg|100.0|\n",
            "|    4|Petter Mattei's \"Love in the Time of Money\" is a visually stunning film to watch. Mr. Mattei offe...|      pos|100.0|\n",
            "|    5|Probably my all-time favorite movie, a story of selflessness, sacrifice and dedication to a noble...|      pos|100.0|\n",
            "|    6|I sure would like to see a resurrection of a up dated Seahunt series with the tech they have toda...|      pos|100.0|\n",
            "|    7|This show was an amazing, fresh & innovative idea in the 70's when it first aired. The first 7 or...|      pos| 99.8|\n",
            "|    8|Encouraged by the positive comments about this film on here I was looking forward to watching thi...|      neg|100.0|\n",
            "|    9|If you like original gut wrenching laughter you will like this movie. If you are young or old the...|      pos|100.0|\n",
            "|   10|Phil the Alien is one of those quirky films where the humour is based around the oddness of every...|      neg| 62.2|\n",
            "|   11|I saw this movie when I was about 12 when it came out. I recall the scariest scene was the big bi...|      pos| 99.8|\n",
            "|   12|So im not a big fan of Boll's work but then again not many are. I enjoyed his movie Postal (maybe...|      neg| 98.7|\n",
            "|   13|The cast played Shakespeare. Shakespeare lost. I appreciate that this is trying to bring Shakespe...|      neg|100.0|\n",
            "|   14|This a fantastic movie of three prisoners who become famous. One of the actors is george clooney ...|      pos|100.0|\n",
            "|   15|Kind of drawn in by the erotic scenes, only to realize this was one of the most amateurish and un...|      neg|100.0|\n",
            "|   16|Some films just simply should not be remade. This is one of them. In and of itself it is not a ba...|      pos| 99.6|\n",
            "|   17|This movie made it into one of my top 10 most awful movies. Horrible. There wasn't a continuous m...|      neg|100.0|\n",
            "|   18|I remember this film,it was the first film i had watched at the cinema the picture was dark in pl...|      pos|100.0|\n",
            "|   19|An awful film! It must have been up against some real stinkers to be nominated for the Golden Glo...|      neg|100.0|\n",
            "+-----+----------------------------------------------------------------------------------------------------+---------+-----+\n",
            "only showing top 20 rows\n",
            "\n"
          ],
          "name": "stdout"
        }
      ]
    },
    {
      "cell_type": "markdown",
      "metadata": {
        "id": "D5lhfTVyDQCf"
      },
      "source": [
        "**Classification Report & Accuracy Score**"
      ]
    },
    {
      "cell_type": "code",
      "metadata": {
        "id": "wHEmK0IhDOB1"
      },
      "source": [
        "sentiments_df = results.select(\"actual_sentiment\", explode(\"sentiment.result\").alias(\"sentiment\")).toPandas()"
      ],
      "execution_count": null,
      "outputs": []
    },
    {
      "cell_type": "code",
      "metadata": {
        "colab": {
          "base_uri": "https://localhost:8080/"
        },
        "id": "rv5eKfhoDfjX",
        "outputId": "6160f94d-2015-4715-e5b7-727d6a90beed"
      },
      "source": [
        "print(\"\\033[1m\", \"Classification Report\\n\\n\", classification_report(sentiments_df[\"actual_sentiment\"], sentiments_df[\"sentiment\"]))\n",
        "print(\"\\033[1m\", \"Accuracy Score:\", accuracy_score(sentiments_df[\"actual_sentiment\"], sentiments_df[\"sentiment\"]))"
      ],
      "execution_count": null,
      "outputs": [
        {
          "output_type": "stream",
          "text": [
            "/usr/local/lib/python3.7/dist-packages/sklearn/metrics/_classification.py:1272: UndefinedMetricWarning: Recall and F-score are ill-defined and being set to 0.0 in labels with no true samples. Use `zero_division` parameter to control this behavior.\n",
            "  _warn_prf(average, modifier, msg_start, len(result))\n"
          ],
          "name": "stderr"
        },
        {
          "output_type": "stream",
          "text": [
            "\u001b[1m Classification Report\n",
            "\n",
            "               precision    recall  f1-score   support\n",
            "\n",
            "         neg       0.90      0.83      0.86     25000\n",
            "     neutral       0.00      0.00      0.00         0\n",
            "         pos       0.85      0.90      0.88     25000\n",
            "\n",
            "    accuracy                           0.87     50000\n",
            "   macro avg       0.58      0.58      0.58     50000\n",
            "weighted avg       0.88      0.87      0.87     50000\n",
            "\n",
            "\u001b[1m Accuracy Score: 0.86636\n"
          ],
          "name": "stdout"
        }
      ]
    },
    {
      "cell_type": "markdown",
      "metadata": {
        "id": "IWfBIM_HdtLw"
      },
      "source": [
        "**Sentiment Analysis of a Single Review**\n"
      ]
    },
    {
      "cell_type": "code",
      "metadata": {
        "id": "ymnzFGfkCl4t"
      },
      "source": [
        "# Light Pipline Model\n",
        "light_model = LightPipeline(nlp_pipeline.fit(spark.createDataFrame([['']]).toDF(\"text\")))"
      ],
      "execution_count": null,
      "outputs": []
    },
    {
      "cell_type": "code",
      "metadata": {
        "id": "pvD2P6lIebjb"
      },
      "source": [
        "# UDF to analyze one review and print out results\n",
        "def analyze_sentiment(review):  \n",
        "  annotations = light_model.fullAnnotate(review)\n",
        "  sentiment = annotations[0][\"sentiment\"][0].result\n",
        "  print(review)\n",
        "  if sentiment == \"neutral\":\n",
        "    print(\"This seems like a neutral review.\\U0001F610\")\n",
        "    return\n",
        "  score = format((float(annotations[0][\"sentiment\"][0].metadata[sentiment]) * 100), \".1f\")\n",
        "  if sentiment == \"pos\":\n",
        "    print(\"This seems like a positive review.\\U0001F601\")\n",
        "    print(\"Sentiment Score:\", score + \"%\", \"Positive.\")\n",
        "  else:\n",
        "    print(\"This seems like a negative review.\\U0001F621\")\n",
        "    print(\"Sentiment Score:\", score + \"%\", \"Negative.\")"
      ],
      "execution_count": null,
      "outputs": []
    },
    {
      "cell_type": "code",
      "metadata": {
        "colab": {
          "base_uri": "https://localhost:8080/"
        },
        "id": "jGvXW-bvTDKQ",
        "outputId": "3fc574fe-a53e-450a-c35f-f909a96a8143"
      },
      "source": [
        "# You can choose any review from our IMDB dataset and analyze it\n",
        "review = reviews[\"text\"][0]\n",
        "analyze_sentiment(review)"
      ],
      "execution_count": null,
      "outputs": [
        {
          "output_type": "stream",
          "text": [
            "One of the other reviewers has mentioned that after watching just 1 Oz episode you'll be hooked. They are right, as this is exactly what happened with me.<br /><br />The first thing that struck me about Oz was its brutality and unflinching scenes of violence, which set in right from the word GO. Trust me, this is not a show for the faint hearted or timid. This show pulls no punches with regards to drugs, sex or violence. Its is hardcore, in the classic use of the word.<br /><br />It is called OZ as that is the nickname given to the Oswald Maximum Security State Penitentary. It focuses mainly on Emerald City, an experimental section of the prison where all the cells have glass fronts and face inwards, so privacy is not high on the agenda. Em City is home to many..Aryans, Muslims, gangstas, Latinos, Christians, Italians, Irish and more....so scuffles, death stares, dodgy dealings and shady agreements are never far away.<br /><br />I would say the main appeal of the show is due to the fact that it goes where other shows wouldn't dare. Forget pretty pictures painted for mainstream audiences, forget charm, forget romance...OZ doesn't mess around. The first episode I ever saw struck me as so nasty it was surreal, I couldn't say I was ready for it, but as I watched more, I developed a taste for Oz, and got accustomed to the high levels of graphic violence. Not just violence, but injustice (crooked guards who'll be sold out for a nickel, inmates who'll kill on order and get away with it, well mannered, middle class inmates being turned into prison bitches due to their lack of street skills or prison experience) Watching Oz, you may become comfortable with what is uncomfortable viewing....thats if you can get in touch with your darker side.\n",
            "This seems like a positive review.😁\n",
            "Sentiment Score: 100.0% Positive.\n"
          ],
          "name": "stdout"
        }
      ]
    },
    {
      "cell_type": "code",
      "metadata": {
        "colab": {
          "base_uri": "https://localhost:8080/",
          "height": 197
        },
        "id": "RfwwnTtoeR1Z",
        "outputId": "a17ccb25-d20b-49bc-8bde-ee84be727234"
      },
      "source": [
        "# You can enter any review to analyze it\n",
        "review = \"Harry Potter is a good movie!\"\n",
        "analyze_sentiment(review)"
      ],
      "execution_count": null,
      "outputs": [
        {
          "output_type": "error",
          "ename": "NameError",
          "evalue": "ignored",
          "traceback": [
            "\u001b[0;31m---------------------------------------------------------------------------\u001b[0m",
            "\u001b[0;31mNameError\u001b[0m                                 Traceback (most recent call last)",
            "\u001b[0;32m<ipython-input-15-60b320c2e503>\u001b[0m in \u001b[0;36m<module>\u001b[0;34m()\u001b[0m\n\u001b[1;32m      1\u001b[0m \u001b[0;31m# You can enter any review to analyze it\u001b[0m\u001b[0;34m\u001b[0m\u001b[0;34m\u001b[0m\u001b[0;34m\u001b[0m\u001b[0m\n\u001b[1;32m      2\u001b[0m \u001b[0mreview\u001b[0m \u001b[0;34m=\u001b[0m \u001b[0;34m\"Harry Potter is a good movie!\"\u001b[0m\u001b[0;34m\u001b[0m\u001b[0;34m\u001b[0m\u001b[0m\n\u001b[0;32m----> 3\u001b[0;31m \u001b[0manalyze_sentiment\u001b[0m\u001b[0;34m(\u001b[0m\u001b[0mreview\u001b[0m\u001b[0;34m)\u001b[0m\u001b[0;34m\u001b[0m\u001b[0;34m\u001b[0m\u001b[0m\n\u001b[0m",
            "\u001b[0;31mNameError\u001b[0m: name 'analyze_sentiment' is not defined"
          ]
        }
      ]
    },
    {
      "cell_type": "code",
      "metadata": {
        "colab": {
          "base_uri": "https://localhost:8080/"
        },
        "id": "gXNYxAzZMMKO",
        "outputId": "73093160-3e41-485d-bf41-6d88826b8147"
      },
      "source": [
        "# You can enter any review to analyze it\n",
        "review = \"Harry Potter is a bad movie!\"\n",
        "analyze_sentiment(review)"
      ],
      "execution_count": null,
      "outputs": [
        {
          "output_type": "stream",
          "text": [
            "Harry Potter is a bad movie!\n",
            "This seems like a negative review.😡\n",
            "Sentiment Score: 99.9% Negative.\n"
          ],
          "name": "stdout"
        }
      ]
    }
  ]
}